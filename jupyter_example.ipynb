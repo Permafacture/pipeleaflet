{
 "cells": [
  {
   "cell_type": "markdown",
   "metadata": {},
   "source": [
    "# Here is a notebook Example for how to use pipeleaflet"
   ]
  },
  {
   "cell_type": "code",
   "execution_count": 6,
   "metadata": {
    "collapsed": false
   },
   "outputs": [],
   "source": [
    "import berrl as bl\n",
    "import pandas as pd\n",
    "from pipeleaflet import *"
   ]
  },
  {
   "cell_type": "code",
   "execution_count": 23,
   "metadata": {
    "collapsed": false,
    "scrolled": true
   },
   "outputs": [
    {
     "name": "stdout",
     "output_type": "stream",
     "text": [
      "     Unnamed: 0  ST_CASE  VE_FORMS             HOUR MINUTE   LATITUDE  \\\n",
      "0         29238   540288         1    7:00pm-7:59pm     49  39.092692   \n",
      "1         29239   540005         1  10:00pm-10:59pm     40  39.404500   \n",
      "2         29240   540006         2    9:00am-9:59am     13  39.496656   \n",
      "3         29241   540039         1    2:00pm-2:59pm     44  39.544294   \n",
      "4         29242   540049         1    9:00pm-9:59pm      0  39.443286   \n",
      "5         29243   540051         1    1:00am-1:59am     30  39.484833   \n",
      "6         29244   540063         2    1:00pm-1:59pm     19  39.374692   \n",
      "7         29245   540065         2  11:00am-11:59am      5  39.511283   \n",
      "8         29246   540068         1  10:00pm-10:59pm     50  39.373522   \n",
      "9         29247   540085         1    8:00pm-8:59pm      5  39.435561   \n",
      "10        29248   540087         1    3:00am-3:59am     11  39.366481   \n",
      "11        29249   540088         1    6:00pm-6:59pm      0  39.365094   \n",
      "12        29250   540161         1    3:00am-3:59am      6  39.385397   \n",
      "13        29251   540192         1  10:00pm-10:59pm     12  39.475558   \n",
      "14        29252   540259         1    3:00pm-3:59pm      2  39.452489   \n",
      "15        29253   540265         2    3:00pm-3:59pm      5  39.337050   \n",
      "16        29254   540279         2    3:00pm-3:59pm     20  39.440750   \n",
      "17        29255   540283         2    7:00pm-7:59pm     46  39.489000   \n",
      "18        29256   540314         1    2:00am-2:59am     30  39.413158   \n",
      "19        29257   540009         2    9:00am-9:59am     30  38.145492   \n",
      "20        29258   540132         1    7:00pm-7:59pm     13  38.075594   \n",
      "21        29259   540220         2  12:00pm-12:59pm     15  38.033447   \n",
      "22        29260   540302         1    6:00pm-6:59pm     18  38.012925   \n",
      "23        29261   540317         2    7:00pm-7:59pm      3  38.069975   \n",
      "24        29262   540162         1  10:00pm-10:59pm     30  38.719469   \n",
      "25        29263   540171         1    6:00pm-6:59pm     49  38.697803   \n",
      "26        29264   540179         2    4:00pm-4:59pm     43  38.723353   \n",
      "27        29265   540218         1    9:00am-9:59am     30  38.722753   \n",
      "28        29266   540010         1    4:00pm-4:59pm     10  40.225664   \n",
      "29        29267   540022         1    7:00pm-7:59pm     45  40.394722   \n",
      "..          ...      ...       ...              ...    ...        ...   \n",
      "913       91327   540018         1  11:00am-11:59am      5  38.321019   \n",
      "914       91328   540128         1    2:00am-2:59am     34  38.133553   \n",
      "915       91329   540173         1    7:00pm-7:59pm     35  38.013464   \n",
      "916       91330   540179         1    5:00am-5:59am     51  38.394650   \n",
      "917       91331   540192         2  10:00am-10:59am      0  38.194442   \n",
      "918       91332   540203         1    4:00am-4:59am      0  38.191111   \n",
      "919       91333   540006         1    5:00pm-5:59pm      8  38.571686   \n",
      "920       91334   540189         1    5:00pm-5:59pm     39  38.494497   \n",
      "921       91335   540043         1  12:00pm-12:59pm     46  39.640561   \n",
      "922       91336   540185         1    0:00am-0:59am      0  39.594622   \n",
      "923       91337   540206         2    8:00pm-8:59pm     50  39.614072   \n",
      "924       91338   540210         2    9:00am-9:59am      4  39.631983   \n",
      "925       91339   540233         2    7:00pm-7:59pm      8  39.488167   \n",
      "926       91340   540250         1  10:00pm-10:59pm     18  39.673978   \n",
      "927       91341   540016         2    5:00pm-5:59pm     53  39.334417   \n",
      "928       91342   540019         2    2:00pm-2:59pm     16  39.094017   \n",
      "929       91343   540028         2    5:00am-5:59am     48  39.346133   \n",
      "930       91344   540029         1    3:00am-3:59am     50  39.316636   \n",
      "931       91345   540056         1    4:00pm-4:59pm     10  39.354733   \n",
      "932       91346   540165         1    1:00pm-1:59pm     14  39.149719   \n",
      "933       91347   540194         1    7:00am-7:59am     31  39.306917   \n",
      "934       91348   540263         1    3:00pm-3:59pm     10  39.282092   \n",
      "935       91349   540266         1  10:00pm-10:59pm     24  39.315808   \n",
      "936       91350   540078         1    3:00am-3:59am     30  37.752628   \n",
      "937       91351   540082         1    7:00pm-7:59pm     39  37.538358   \n",
      "938       91352   540093         1    1:00pm-1:59pm     46  37.493456   \n",
      "939       91353   540172         2    7:00pm-7:59pm      0  37.584719   \n",
      "940       91354   540175         1    5:00pm-5:59pm     50  37.547683   \n",
      "941       91355   540278         1    3:00pm-3:59pm      4  37.618547   \n",
      "942       91356   540290         1  11:00pm-11:59pm     20  37.727028   \n",
      "\n",
      "     LONGITUDE  YEAR  STATE  COUNTY      ...        VAR22  VAR23  VAR24 VAR25  \\\n",
      "0   -80.020883  2011     54       1      ...            1      1      1     7   \n",
      "1   -77.965894  2011     54       3      ...            1      1      1     1   \n",
      "2   -77.958844  2011     54       3      ...            3      5      2     1   \n",
      "3   -77.909117  2011     54       3      ...            2      1      2     2   \n",
      "4   -77.986997  2011     54       3      ...            3      1      2     3   \n",
      "5   -77.988125  2011     54       3      ...            2      1      2     3   \n",
      "6   -78.037508  2011     54       3      ...            3      3      1     4   \n",
      "7   -77.934436  2011     54       3      ...            3      4      1     4   \n",
      "8   -78.025847  2011     54       3      ...            1      1      1     4   \n",
      "9   -77.918331  2011     54       3      ...            1      1      2     5   \n",
      "10  -78.046897  2011     54       3      ...            1      1      2     5   \n",
      "11  -78.015633  2011     54       3      ...            1      1      1     5   \n",
      "12  -78.029450  2011     54       3      ...            3      1      2     7   \n",
      "13  -77.957181  2011     54       3      ...            1      1      2     8   \n",
      "14  -77.963056  2011     54       3      ...            3      1      1     9   \n",
      "15  -78.052175  2011     54       3      ...            3      6      2    10   \n",
      "16  -77.974503  2011     54       3      ...            3      4      1    11   \n",
      "17  -77.972900  2011     54       3      ...            3      5      2    11   \n",
      "18  -78.058061  2011     54       3      ...            2      1      1    12   \n",
      "19  -81.654939  2011     54       5      ...            3      3      1     1   \n",
      "20  -81.816472  2011     54       5      ...            1      1      2     6   \n",
      "21  -81.873722  2011     54       5      ...            3      4      1     9   \n",
      "22  -81.818664  2011     54       5      ...            1      1      1    11   \n",
      "23  -81.844683  2011     54       5      ...            3      1      2    12   \n",
      "24  -80.523347  2011     54       7      ...            1      1      1     7   \n",
      "25  -80.666728  2011     54       7      ...            1      1      1     7   \n",
      "26  -80.667072  2011     54       7      ...            3      4      1     7   \n",
      "27  -80.638822  2011     54       7      ...            1      1      2     9   \n",
      "28  -80.652975  2011     54       9      ...            2      1      1     1   \n",
      "29  -80.592078  2011     54       9      ...            1      1      1     2   \n",
      "..         ...   ...    ...     ...      ...          ...    ...    ...   ...   \n",
      "913 -82.440981  2013     54      99      ...            2      1      1     2   \n",
      "914 -82.468811  2013     54      99      ...            2      1      1     6   \n",
      "915 -82.520417  2013     54      99      ...            3      1      2     7   \n",
      "916 -82.525294  2013     54      99      ...            1      1      2     6   \n",
      "917 -82.472867  2013     54      99      ...            3      4      1     7   \n",
      "918 -82.413611  2013     54      99      ...            2      1      1     9   \n",
      "919 -80.689694  2013     54     101      ...            3      1      1     1   \n",
      "920 -80.308631  2013     54     101      ...            1      1      2     8   \n",
      "921 -80.554850  2013     54     103      ...            2      1      1     3   \n",
      "922 -80.696431  2013     54     103      ...            1      1      1     8   \n",
      "923 -80.842425  2013     54     103      ...            3      3      2     9   \n",
      "924 -80.849017  2013     54     103      ...            3      3      1     9   \n",
      "925 -80.544692  2013     54     103      ...            1      3      2     8   \n",
      "926 -80.712028  2013     54     103      ...            1      1      1    10   \n",
      "927 -81.377875  2013     54     107      ...            2      4      1     1   \n",
      "928 -81.545247  2013     54     107      ...            3      4      1     2   \n",
      "929 -81.521594  2013     54     107      ...            3      4      1     2   \n",
      "930 -81.443747  2013     54     107      ...            1      1      2     2   \n",
      "931 -81.444508  2013     54     107      ...            3      1      1     4   \n",
      "932 -81.428944  2013     54     107      ...            2      1      1     7   \n",
      "933 -81.526603  2013     54     107      ...            2      1      1     9   \n",
      "934 -81.548247  2013     54     107      ...            3      1      1    11   \n",
      "935 -81.425003  2013     54     107      ...            1      1      1    11   \n",
      "936 -81.563942  2013     54     109      ...            3      1      1     3   \n",
      "937 -81.380919  2013     54     109      ...            1      1      1     4   \n",
      "938 -81.416014  2013     54     109      ...            2      1      2     5   \n",
      "939 -81.684719  2013     54     109      ...            1      5      1     7   \n",
      "940 -81.407775  2013     54     109      ...            3      1      2     8   \n",
      "941 -81.538742  2013     54     109      ...            2      1      1    10   \n",
      "942 -81.413469  2013     54     109      ...            2      1      2     9   \n",
      "\n",
      "    VAR26 VAR27 VAR28        STANAME         CNTYNAME      LCSTANAME  \n",
      "0      19     1     2  WEST VIRGINIA   Barbour County  West Virginia  \n",
      "1      22     1     2  WEST VIRGINIA  Berkeley County  West Virginia  \n",
      "2       9     2     1  WEST VIRGINIA  Berkeley County  West Virginia  \n",
      "3      14     1     2  WEST VIRGINIA  Berkeley County  West Virginia  \n",
      "4      21     1     2  WEST VIRGINIA  Berkeley County  West Virginia  \n",
      "5       1     1     2  WEST VIRGINIA  Berkeley County  West Virginia  \n",
      "6      13     2     2  WEST VIRGINIA  Berkeley County  West Virginia  \n",
      "7      11     2     1  WEST VIRGINIA  Berkeley County  West Virginia  \n",
      "8      22     1     2  WEST VIRGINIA  Berkeley County  West Virginia  \n",
      "9      20     1     2  WEST VIRGINIA  Berkeley County  West Virginia  \n",
      "10      3     1     2  WEST VIRGINIA  Berkeley County  West Virginia  \n",
      "11     18     1     2  WEST VIRGINIA  Berkeley County  West Virginia  \n",
      "12      3     1     1  WEST VIRGINIA  Berkeley County  West Virginia  \n",
      "13     22     1     2  WEST VIRGINIA  Berkeley County  West Virginia  \n",
      "14     15     1     2  WEST VIRGINIA  Berkeley County  West Virginia  \n",
      "15     15     2     2  WEST VIRGINIA  Berkeley County  West Virginia  \n",
      "16     15     2     2  WEST VIRGINIA  Berkeley County  West Virginia  \n",
      "17     19     2     1  WEST VIRGINIA  Berkeley County  West Virginia  \n",
      "18      2     1     2  WEST VIRGINIA  Berkeley County  West Virginia  \n",
      "19      9     2     2  WEST VIRGINIA     Boone County  West Virginia  \n",
      "20     19     1     2  WEST VIRGINIA     Boone County  West Virginia  \n",
      "21     12     2     2  WEST VIRGINIA     Boone County  West Virginia  \n",
      "22     18     1     2  WEST VIRGINIA     Boone County  West Virginia  \n",
      "23     19     2     2  WEST VIRGINIA     Boone County  West Virginia  \n",
      "24     22     1     2  WEST VIRGINIA   Braxton County  West Virginia  \n",
      "25     18     1     2  WEST VIRGINIA   Braxton County  West Virginia  \n",
      "26     16     2     1  WEST VIRGINIA   Braxton County  West Virginia  \n",
      "27      9     1     2  WEST VIRGINIA   Braxton County  West Virginia  \n",
      "28     16     1     2  WEST VIRGINIA    Brooke County  West Virginia  \n",
      "29     19     1     2  WEST VIRGINIA    Brooke County  West Virginia  \n",
      "..    ...   ...   ...            ...              ...            ...  \n",
      "913    11     1     2  WEST VIRGINIA     Wayne County  West Virginia  \n",
      "914     2     1     2  WEST VIRGINIA     Wayne County  West Virginia  \n",
      "915    19     1     2  WEST VIRGINIA     Wayne County  West Virginia  \n",
      "916     5     1     1  WEST VIRGINIA     Wayne County  West Virginia  \n",
      "917    10     2     2  WEST VIRGINIA     Wayne County  West Virginia  \n",
      "918     4     1     2  WEST VIRGINIA     Wayne County  West Virginia  \n",
      "919    17     1     2  WEST VIRGINIA   Webster County  West Virginia  \n",
      "920    17     1     2  WEST VIRGINIA   Webster County  West Virginia  \n",
      "921    12     1     2  WEST VIRGINIA    Wetzel County  West Virginia  \n",
      "922     0     1     2  WEST VIRGINIA    Wetzel County  West Virginia  \n",
      "923    20     2     2  WEST VIRGINIA    Wetzel County  West Virginia  \n",
      "924     9     2     2  WEST VIRGINIA    Wetzel County  West Virginia  \n",
      "925    19     2     2  WEST VIRGINIA    Wetzel County  West Virginia  \n",
      "926    22     1     2  WEST VIRGINIA    Wetzel County  West Virginia  \n",
      "927    17     2     2  WEST VIRGINIA      Wood County  West Virginia  \n",
      "928    14     2     2  WEST VIRGINIA      Wood County  West Virginia  \n",
      "929     5     2     2  WEST VIRGINIA      Wood County  West Virginia  \n",
      "930     3     1     2  WEST VIRGINIA      Wood County  West Virginia  \n",
      "931    16     1     1  WEST VIRGINIA      Wood County  West Virginia  \n",
      "932    13     1     2  WEST VIRGINIA      Wood County  West Virginia  \n",
      "933     7     1     2  WEST VIRGINIA      Wood County  West Virginia  \n",
      "934    15     1     2  WEST VIRGINIA      Wood County  West Virginia  \n",
      "935    22     1     2  WEST VIRGINIA      Wood County  West Virginia  \n",
      "936     3     1     2  WEST VIRGINIA   Wyoming County  West Virginia  \n",
      "937    19     1     2  WEST VIRGINIA   Wyoming County  West Virginia  \n",
      "938    13     1     2  WEST VIRGINIA   Wyoming County  West Virginia  \n",
      "939    19     2     2  WEST VIRGINIA   Wyoming County  West Virginia  \n",
      "940    17     1     2  WEST VIRGINIA   Wyoming County  West Virginia  \n",
      "941    15     1     2  WEST VIRGINIA   Wyoming County  West Virginia  \n",
      "942    23     1     2  WEST VIRGINIA   Wyoming County  West Virginia  \n",
      "\n",
      "[943 rows x 51 columns]\n",
      "Wrote points.geojson to geojson.\n"
     ]
    }
   ],
   "source": [
    "data = pd.read_csv('example_csvs/wv_fatalities.csv')\n",
    "cln()\n",
    "print data\n",
    "bl.make_points(data,filename='points.geojson')"
   ]
  },
  {
   "cell_type": "code",
   "execution_count": 21,
   "metadata": {
    "collapsed": false,
    "scrolled": true
   },
   "outputs": [
    {
     "name": "stdout",
     "output_type": "stream",
     "text": [
      "Map instance written to index.html\n"
     ]
    }
   ],
   "source": [
    "url = load(['points.geojson'])\n",
    "\n"
   ]
  },
  {
   "cell_type": "code",
   "execution_count": 24,
   "metadata": {
    "collapsed": false,
    "scrolled": true
   },
   "outputs": [
    {
     "data": {
      "text/html": [
       "\n",
       "        <iframe\n",
       "            width=\"400\"\n",
       "            height=\"400\"\n",
       "            src=\"http://localhost:8000/index.html\"\n",
       "            frameborder=\"0\"\n",
       "            allowfullscreen\n",
       "        ></iframe>\n",
       "        "
      ],
      "text/plain": [
       "<IPython.lib.display.IFrame at 0x108f27990>"
      ]
     },
     "execution_count": 24,
     "metadata": {},
     "output_type": "execute_result"
    }
   ],
   "source": [
    "show(url) # pipeleaflet has a function 'show(url)' "
   ]
  },
  {
   "cell_type": "code",
   "execution_count": null,
   "metadata": {
    "collapsed": true
   },
   "outputs": [],
   "source": []
  },
  {
   "cell_type": "code",
   "execution_count": null,
   "metadata": {
    "collapsed": true
   },
   "outputs": [],
   "source": []
  },
  {
   "cell_type": "code",
   "execution_count": null,
   "metadata": {
    "collapsed": true
   },
   "outputs": [],
   "source": []
  },
  {
   "cell_type": "code",
   "execution_count": null,
   "metadata": {
    "collapsed": true
   },
   "outputs": [],
   "source": []
  }
 ],
 "metadata": {
  "kernelspec": {
   "display_name": "Python 2",
   "language": "python",
   "name": "python2"
  },
  "language_info": {
   "codemirror_mode": {
    "name": "ipython",
    "version": 2
   },
   "file_extension": ".py",
   "mimetype": "text/x-python",
   "name": "python",
   "nbconvert_exporter": "python",
   "pygments_lexer": "ipython2",
   "version": "2.7.11"
  }
 },
 "nbformat": 4,
 "nbformat_minor": 0
}
